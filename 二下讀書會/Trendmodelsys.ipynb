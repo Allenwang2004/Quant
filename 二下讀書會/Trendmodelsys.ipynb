{
 "cells": [
  {
   "cell_type": "code",
   "execution_count": null,
   "metadata": {},
   "outputs": [],
   "source": [
    "'''\n",
    "這個策略是一個趨勢突破的交易系統 \n",
    "利用MACD快(DIF)慢(DEA)線的金叉死叉\n",
    "當證券價格突破過去N次金/死叉記錄的“最高/低價±0.5倍ATR” 時開倉\n",
    "若持有多頭部位 當證券價格回落至M根K線最低點平倉\n",
    "若持有空頭部位 當證券價格上升至過去M根K線最高點平倉\n",
    "'''"
   ]
  }
 ],
 "metadata": {
  "language_info": {
   "name": "python"
  }
 },
 "nbformat": 4,
 "nbformat_minor": 2
}
