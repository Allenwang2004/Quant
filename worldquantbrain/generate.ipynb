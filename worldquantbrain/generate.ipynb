{
 "cells": [
  {
   "cell_type": "code",
   "execution_count": 3,
   "metadata": {},
   "outputs": [],
   "source": [
    "%run operator.ipynb"
   ]
  },
  {
   "cell_type": "code",
   "execution_count": 4,
   "metadata": {},
   "outputs": [],
   "source": [
    "# 底下是解釋如何使用operator.ipynb的operator\n",
    "# ex : rank(ts_delta(retained_earnings / sharesout, 90))\n",
    "# 我可以丟這個alpha到worldquant的平台上，然後他們會幫我算出這個alpha的表現\n",
    "# 現在請根據提供的operator.ipynb的operator來實作這個alpha\n",
    "# data的部分 告訴我要用哪些資料就好\n",
    "# 我會去平台上找到data然後丟到你的function裡面"
   ]
  },
  {
   "cell_type": "code",
   "execution_count": 5,
   "metadata": {},
   "outputs": [],
   "source": [
    "#現在我們要來實作一個alpha\n",
    "#想法是當收盤價已經連續3天下跌，且今天的收盤價小於昨天的收盤價時，做多\n",
    "#當收盤價已經連續3天上漲，且今天的收盤價大於昨天的收盤價時，做空\n",
    "#其餘時間不操作\n",
    "\n",
    "#根據operator.ipynb的operator\n",
    "#我們需要用到的operator有\n",
    "#ts_delta\n",
    "#rank\n",
    "#shift\n",
    "#close\n",
    "#data\n",
    "\n",
    "#所以這個alpha應該是 \n",
    "#(ts_delta(close, 1)) * rank(ts_delta(close, 2)) * rank(ts_delta(close, 3)) * sign(ts_delta(close, 1))"
   ]
  },
  {
   "cell_type": "code",
   "execution_count": 6,
   "metadata": {},
   "outputs": [],
   "source": [
    "#根據上面的示範\n",
    "#我現在要的邏輯是 當今天新聞的情緒比昨天好，我就做多\n",
    "#資料是The price at the time of the news minus the after the news low\n",
    "#他的意思是今天新聞出來後的最低價減掉新聞出來前的價格\n",
    "#所以這個值是一個正值代表新聞出來後價格上漲，負值代表新聞出來後價格下跌\n",
    "#叫news_max_dn_amt\n",
    "#所以我們要做的是\n",
    "#sign(ts_delta(news_max_dn_amt, 1))\n"
   ]
  },
  {
   "cell_type": "code",
   "execution_count": 7,
   "metadata": {},
   "outputs": [],
   "source": [
    "#a = zscore(hump(-scl12_buzz,hump = 0.5));\n",
    "#group_zscore(a,market)\n",
    "#這個alpha是根據新聞的情緒來做的\n",
    "#可以修改成 \n",
    "#group_zscore(a,market) * sign(ts_delta(news_max_dn_amt, 1))\n",
    "#這樣就是根據新聞的情緒來做多或做空\n",
    "#還可以加上其他的operator來增加alpha的表現\n",
    "#ex : group_zscore(a,market) * sign(ts_delta(news_max_dn_amt, 1)) * rank(ts_delta(close, 1)) * rank(ts_delta(close, 2)) * rank(ts_delta(close, 3)) * sign(ts_delta(close, 1))\n",
    "#上面的sharp ratio是很低\n",
    "#可以試試看加上其他的operator來增加sharp ratio\n",
    "#ex : group_zscore(a,market) * sign(ts_delta(news_max_dn_amt, 1)) * rank(ts_delta(close, 1)) * rank(ts_delta(close, 2)) * rank(ts_delta(close, 3)) * sign(ts_delta(close, 1)) * rank(ts_delta(volume, 1)) * rank(ts_delta(volume, 2)) * rank(ts_delta(volume, 3)) * sign(ts_delta(volume, 1))"
   ]
  },
  {
   "cell_type": "code",
   "execution_count": null,
   "metadata": {},
   "outputs": [],
   "source": [
    "#告訴我可以提高sharp ratio的方法\n",
    "#1.增加operator\n",
    "#2.增加data\n",
    "#3.修改operator的參數\n",
    "#4.修改operator的運算邏輯\n",
    "#5.修改data的運算邏輯\n",
    "\n",
    "#有哪些operator可以提高sharp ratio\n",
    "#1.增加rank的operator 代表增加了選股的能力 ex : rank(ts_delta(volume, 1))\n",
    "#2.增加ts_delta的operator 代表增加了選股的能力 ex : ts_delta(volume, 1)\n",
    "#3.增加shift的operator 代表增加了選股的能力 ex : shift(volume, 1)\n",
    "#4.增加sign的operator 代表增加了選股的能力 ex : sign(ts_delta(volume, 1))\n",
    "#5.增加group_zscore的operator 代表增加了選股的能力 ex : group_zscore(volume, market)\n",
    "#6.增加hump的operator 代表增加了選股的能力 ex : hump(volume, hump = 0.5)\n",
    "#7.增加zscore的operator 代表增加了選股的能力 ex : zscore(volume)"
   ]
  },
  {
   "cell_type": "code",
   "execution_count": null,
   "metadata": {},
   "outputs": [],
   "source": [
    "#a = hump(group_neutralize(vwap/close, subindustry), hump=0.001);\n",
    "#ts_zscore(a, 252)\n",
    "#這個alpha是根據vwap/close來做的 意義是vwap/close的值在過去252天的zscore\n",
    "#hump是一個operator 他的意義是把值限制在一個範圍內"
   ]
  },
  {
   "cell_type": "code",
   "execution_count": null,
   "metadata": {},
   "outputs": [],
   "source": [
    "#historical_volatility_180\n",
    "#Close-to-close Historical volatility over 180 days\n",
    "#這個alpha是根據收盤價的波動率來做的\n",
    "#可以修改成\n",
    "#rank(historical_volatility_180) * sign(ts_delta(close, 1))"
   ]
  }
 ],
 "metadata": {
  "kernelspec": {
   "display_name": "venv",
   "language": "python",
   "name": "python3"
  },
  "language_info": {
   "codemirror_mode": {
    "name": "ipython",
    "version": 3
   },
   "file_extension": ".py",
   "mimetype": "text/x-python",
   "name": "python",
   "nbconvert_exporter": "python",
   "pygments_lexer": "ipython3",
   "version": "3.11.1"
  }
 },
 "nbformat": 4,
 "nbformat_minor": 2
}
